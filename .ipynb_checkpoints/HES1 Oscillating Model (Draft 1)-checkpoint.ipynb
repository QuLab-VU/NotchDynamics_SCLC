{
 "cells": [
  {
   "cell_type": "code",
   "execution_count": 1,
   "id": "c93cacbb",
   "metadata": {},
   "outputs": [
    {
     "data": {
      "text/plain": [
       "Initial(ENZP(hnp=None), ENZP_0)"
      ]
     },
     "execution_count": 1,
     "metadata": {},
     "output_type": "execute_result"
    }
   ],
   "source": [
    "from pysb.core import *\n",
    "from pysb.integrate import *\n",
    "import matplotlib.pyplot as plt\n",
    "import numpy as np\n",
    "from pysb.integrate import ScipyOdeSimulator as SOS\n",
    "from pysb.bng import generate_equations\n",
    "\n",
    "Model()\n",
    "Monomer('NOTCH3', ['dll4', 'jag2'])\n",
    "Monomer('DLL4', ['notch3'])\n",
    "Monomer('JAG2', ['notch3'])\n",
    "Monomer('NICD', ['rbpj'])\n",
    "Monomer('RBPJ', ['nicd'])\n",
    "Monomer('HES1', ['dimer'])\n",
    "Monomer('DIMER', ['hes1'])\n",
    "Monomer('HCM', ['e'])\n",
    "Monomer('HNP', ['hes6', 'enzp'])\n",
    "Monomer ('HES6', ['hnp'])\n",
    "Monomer ('ENZM', ['m'])\n",
    "Monomer ('ENZP', ['hnp'])\n",
    "\n",
    "Parameter('kf', 1e-2)\n",
    "Parameter('kr', 1e-4)\n",
    "Parameter('kc', 1)\n",
    "Parameter('NOTCH3_0', 10)\n",
    "Parameter('JAG2_0', 15)\n",
    "Parameter('DLL4_0', 20)\n",
    "Parameter('NICD_0', 0)\n",
    "Parameter('RBPJ_0', 10)\n",
    "Parameter('DIMER_0', 0)\n",
    "Parameter('HES1_0', 1)\n",
    "Parameter('HCM_0', 0)\n",
    "Parameter('HNP_0', 0)\n",
    "Parameter('HES6_0', 20)\n",
    "Parameter('ENZM_0', 10)\n",
    "Parameter('ENZP_0', 10)\n",
    "\n",
    "Initial(NOTCH3(dll4 = None, jag2 = None), NOTCH3_0)\n",
    "Initial(JAG2(notch3 = None), JAG2_0)\n",
    "Initial(DLL4(notch3 = None),DLL4_0)\n",
    "Initial(NICD(rbpj = None),NICD_0)\n",
    "Initial(RBPJ(nicd = None),RBPJ_0)\n",
    "Initial(HES1(dimer = None),HES1_0)\n",
    "Initial(DIMER(hes1 = None),DIMER_0)\n",
    "Initial(HCM(e = None),HCM_0)\n",
    "Initial(HNP(hes6 = None, enzp = None),HNP_0)\n",
    "Initial(HES6(hnp = None),HES6_0)\n",
    "Initial(ENZM(m = None),ENZM_0) \n",
    "Initial(ENZP(hnp = None),ENZP_0) "
   ]
  },
  {
   "cell_type": "code",
   "execution_count": 2,
   "id": "8a1843f2",
   "metadata": {
    "scrolled": false
   },
   "outputs": [
    {
     "name": "stdout",
     "output_type": "stream",
     "text": [
      "NOTCH3(dll4=None, jag2=None)\n",
      "JAG2(notch3=None)\n",
      "DLL4(notch3=None)\n",
      "NICD(rbpj=None)\n",
      "RBPJ(nicd=None)\n",
      "HES1(dimer=None)\n",
      "DIMER(hes1=None)\n",
      "HCM(e=None)\n",
      "HNP(hes6=None, enzp=None)\n",
      "HES6(hnp=None)\n",
      "ENZM(m=None)\n",
      "ENZP(hnp=None)\n",
      "JAG2(notch3=1) % NOTCH3(dll4=None, jag2=1)\n",
      "DLL4(notch3=1) % NOTCH3(dll4=1, jag2=None)\n",
      "DIMER(hes1=1) % HES1(dimer=1)\n",
      "ENZM(m=1) % HCM(e=1)\n",
      "ENZP(hnp=1) % HNP(hes6=None, enzp=1)\n",
      "HES6(hnp=1) % HNP(hes6=1, enzp=None)\n"
     ]
    }
   ],
   "source": [
    "Rule('jag_binds_notch', JAG2(notch3 = None) + NOTCH3(dll4 = None, jag2 = None) |\n",
    "     JAG2(notch3 = 1) % NOTCH3(dll4 = None, jag2 = 1), kf, kr)\n",
    "Rule('dll_binds_notch', DLL4(notch3 = None) + NOTCH3(dll4 = None, jag2 = None) |\n",
    "     DLL4(notch3 = 1) % NOTCH3(dll4 = 1, jag2 = None), kf, kr)\n",
    "\n",
    "Rule('nicd_catalysis_j', JAG2(notch3 = 1) % NOTCH3(dll4 = None, jag2 = 1) >> NOTCH3(dll4 = None, jag2 = None) + JAG2(notch3 = None) + NICD(rbpj = None), kc)\n",
    "Rule('nicd_catalysis_d', DLL4(notch3 = 1) % NOTCH3(dll4 = 1, jag2 = None) >> NOTCH3(dll4 = None, jag2 = None) + DLL4(notch3 = None) + NICD(rbpj = None), kc)\n",
    "\n",
    "        \n",
    "Rule('nicd_binds_rbpj', NICD(rbpj = None) + RBPJ(nicd = None) >> DIMER(hes1 = None) + NICD(rbpj = None) + RBPJ(nicd = None), kc)\n",
    "Rule('hes1_activation', HES1(dimer = None) + DIMER(hes1 = None) |\n",
    "     HES1(dimer = 1) % DIMER(hes1 = 1), kf, kr)\n",
    "\n",
    "\n",
    "Rule('hcm_synth', HES1(dimer = None) >> HCM(e = None) + HES1(dimer = None), kf)\n",
    "Rule('hnp_synth', HCM(e = None) >> HCM(e = None) + HNP(hes6 = None, enzp = None), kf)\n",
    "\n",
    "Rule('hcm_deg_complex', HCM(e = None) + ENZM(m = None) |\n",
    "     HCM(e = 1) % ENZM(m = 1), kf, kr)\n",
    "Rule('hcm_deg', HCM(e = 1) % ENZM (m = 1) >> ENZM(m = None), kf)\n",
    "\n",
    "Rule('hnp_deg_complex', HNP(hes6 = None, enzp = None) + ENZP(hnp = None) |\n",
    "     HNP(hes6 = None, enzp = 1) % ENZP(hnp = 1), kf, kr)\n",
    "Rule('hnp_deg', HNP(hes6 = None, enzp = 1) % ENZP (hnp = 1) >> ENZP(hnp = None), kf)\n",
    "\n",
    "Rule('hes6_hes1_complex', HNP(hes6 = None, enzp = None) + HES6(hnp = None) |\n",
    "     HNP(hes6 = 1, enzp = None) % HES6(hnp = 1), kf, kr)\n",
    "Rule('hes6_hes1_deg', HNP(hes6 = 1, enzp = None) % HES6 (hnp = 1) >> HES6(hnp = None), kf)\n",
    "\n",
    "Observable('JAG_b_Notch_obs',  JAG2(notch3 = 1) % NOTCH3(dll4 = None, jag2 = 1))\n",
    "Observable('DLL_b_Notch_obs', DLL4(notch3 = 1) % NOTCH3(dll4 = 1, jag2 = None))\n",
    "Observable('Unbound_Notch_obs', NOTCH3(dll4 = None, jag2 = None))\n",
    "\n",
    "generate_equations(model, verbose = False)\n",
    "\n",
    "print\n",
    "for sp in model.species:\n",
    "    print(sp)"
   ]
  },
  {
   "cell_type": "code",
   "execution_count": 3,
   "id": "874135e7",
   "metadata": {
    "scrolled": true
   },
   "outputs": [
    {
     "name": "stderr",
     "output_type": "stream",
     "text": [
      "2021-11-17 15:35:15.907 - pysb.simulator.scipyode - WARNING - [_interactive_] This system of ODEs will be evaluated in pure Python. This may be slow for large models. We recommend installing the 'cython' package for compiling the ODEs to C code. This warning can be suppressed by specifying compiler='python'.\n"
     ]
    },
    {
     "data": {
      "image/png": "[encoded data removed]",
      "text/plain": [
       "<Figure size 432x288 with 1 Axes>"
      ]
     },
     "metadata": {
      "needs_background": "light"
     },
     "output_type": "display_data"
    }
   ],
   "source": [
    "tspan = np.linspace(0, 50, 1001)\n",
    "sim1 = SOS(model, tspan, verbose=False)\n",
    "sim_result = sim1.run()\n",
    "plt.plot(tspan, sim_result.observables['JAG_b_Notch_obs'], lw=2, label='JNotch')\n",
    "plt.plot(tspan, sim_result.observables['DLL_b_Notch_obs'], lw=2, label='DNotch')\n",
    "plt.plot(tspan, sim_result.observables['Unbound_Notch_obs'], lw=2, label='UNotch')\n",
    "plt.xlabel(\"Time\")\n",
    "plt.ylabel(\"Molecules\")\n",
    "plt.legend(loc=0)\n",
    "plt.show()"
   ]
  }
 ],
 "metadata": {
  "kernelspec": {
   "display_name": "Python 3 (ipykernel)",
   "language": "python",
   "name": "python3"
  },
  "language_info": {
   "codemirror_mode": {
    "name": "ipython",
    "version": 3
   },
   "file_extension": ".py",
   "mimetype": "text/x-python",
   "name": "python",
   "nbconvert_exporter": "python",
   "pygments_lexer": "ipython3",
   "version": "3.9.6"
  }
 },
 "nbformat": 4,
 "nbformat_minor": 5
}
