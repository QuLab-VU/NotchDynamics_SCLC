{
 "cells": [
  {
   "cell_type": "markdown",
   "id": "38d8321d-a59d-4cf5-8c92-3aafb835175f",
   "metadata": {},
   "source": [
    "# Bulk RNA seq Exploratory Data Analysis"
   ]
  },
  {
   "cell_type": "markdown",
   "id": "7f249b5e-d989-4ab6-9894-ad954de22b89",
   "metadata": {},
   "source": [
    "First, we'll want to import pandas to be able to read in our data and manipulate it. We also need matplotlib for plotting, and seaborn (for prettier plots)."
   ]
  },
  {
   "cell_type": "code",
   "execution_count": 1,
   "id": "1611586c-f272-45a9-ac21-1cd22a996e9f",
   "metadata": {},
   "outputs": [],
   "source": [
    "import pandas as pd\n",
    "import numpy as np\n",
    "import matplotlib.pyplot as plt\n",
    "import seaborn as sns"
   ]
  },
  {
   "cell_type": "markdown",
   "id": "52713e07-db2d-4528-803d-abe889d57afa",
   "metadata": {},
   "source": [
    "Then we'll read in the bulk RNA seq dataset to look at it. `df.head()` will print the first five lines, if you want to quickly view the df. Some other helpful ones are `df.info()` which gives info about each column, and `df.describe()` which will give you statistics on all the columns with numerical values (floats and integer types). "
   ]
  },
  {
   "cell_type": "code",
   "execution_count": 35,
   "id": "ea07c208-a1fd-4029-a589-8f9819289cca",
   "metadata": {},
   "outputs": [],
   "source": [
    "df = pd.read_csv('../data/SCLC_combined_Minna_CCLE_batch_corrected_wo_lowgenes.csv', header = 0, index_col = 0)"
   ]
  },
  {
   "cell_type": "code",
   "execution_count": 36,
   "id": "f0914660-f418-417e-8a56-55316122a5ad",
   "metadata": {},
   "outputs": [
    {
     "data": {
      "text/html": [
       "<div>\n",
       "<style scoped>\n",
       "    .dataframe tbody tr th:only-of-type {\n",
       "        vertical-align: middle;\n",
       "    }\n",
       "\n",
       "    .dataframe tbody tr th {\n",
       "        vertical-align: top;\n",
       "    }\n",
       "\n",
       "    .dataframe thead th {\n",
       "        text-align: right;\n",
       "    }\n",
       "</style>\n",
       "<table border=\"1\" class=\"dataframe\">\n",
       "  <thead>\n",
       "    <tr style=\"text-align: right;\">\n",
       "      <th></th>\n",
       "      <th>m.DMS153</th>\n",
       "      <th>m.NCIH60</th>\n",
       "      <th>m.NCIH69</th>\n",
       "      <th>m.NCIH82</th>\n",
       "      <th>m.NCIH128</th>\n",
       "      <th>m.NCIH146</th>\n",
       "      <th>m.NCIH187</th>\n",
       "      <th>m.NCIH209</th>\n",
       "      <th>m.NCIH211</th>\n",
       "      <th>m.NCIH250</th>\n",
       "      <th>...</th>\n",
       "      <th>c.NCIH524</th>\n",
       "      <th>c.NCIH526</th>\n",
       "      <th>c.NCIH69</th>\n",
       "      <th>c.NCIH82</th>\n",
       "      <th>c.NCIH841</th>\n",
       "      <th>c.NCIH889</th>\n",
       "      <th>c.SBC5</th>\n",
       "      <th>c.SCLC21H</th>\n",
       "      <th>c.SHP77</th>\n",
       "      <th>c.SW1271</th>\n",
       "    </tr>\n",
       "  </thead>\n",
       "  <tbody>\n",
       "    <tr>\n",
       "      <th>A1BG</th>\n",
       "      <td>2.955199</td>\n",
       "      <td>3.239727</td>\n",
       "      <td>3.599770</td>\n",
       "      <td>3.055231</td>\n",
       "      <td>4.579507</td>\n",
       "      <td>4.685081</td>\n",
       "      <td>3.215947</td>\n",
       "      <td>4.181752</td>\n",
       "      <td>1.288835</td>\n",
       "      <td>4.804468</td>\n",
       "      <td>...</td>\n",
       "      <td>4.183146</td>\n",
       "      <td>3.405942</td>\n",
       "      <td>4.256034</td>\n",
       "      <td>3.905371</td>\n",
       "      <td>4.436237</td>\n",
       "      <td>5.073359</td>\n",
       "      <td>4.423783</td>\n",
       "      <td>3.713345</td>\n",
       "      <td>3.438644</td>\n",
       "      <td>4.209637</td>\n",
       "    </tr>\n",
       "    <tr>\n",
       "      <th>A1CF</th>\n",
       "      <td>0.077212</td>\n",
       "      <td>0.167166</td>\n",
       "      <td>0.117398</td>\n",
       "      <td>0.536179</td>\n",
       "      <td>0.088160</td>\n",
       "      <td>0.074992</td>\n",
       "      <td>0.080727</td>\n",
       "      <td>0.079204</td>\n",
       "      <td>0.107217</td>\n",
       "      <td>0.090348</td>\n",
       "      <td>...</td>\n",
       "      <td>-0.057567</td>\n",
       "      <td>0.623162</td>\n",
       "      <td>-0.107734</td>\n",
       "      <td>-0.016782</td>\n",
       "      <td>0.183740</td>\n",
       "      <td>0.242981</td>\n",
       "      <td>0.008349</td>\n",
       "      <td>0.003494</td>\n",
       "      <td>-0.073834</td>\n",
       "      <td>-0.001700</td>\n",
       "    </tr>\n",
       "    <tr>\n",
       "      <th>A2M</th>\n",
       "      <td>2.267502</td>\n",
       "      <td>0.122302</td>\n",
       "      <td>0.085891</td>\n",
       "      <td>1.586479</td>\n",
       "      <td>0.064500</td>\n",
       "      <td>0.231189</td>\n",
       "      <td>0.059062</td>\n",
       "      <td>0.072303</td>\n",
       "      <td>0.189474</td>\n",
       "      <td>0.066101</td>\n",
       "      <td>...</td>\n",
       "      <td>-0.038265</td>\n",
       "      <td>-0.006552</td>\n",
       "      <td>0.040540</td>\n",
       "      <td>0.221331</td>\n",
       "      <td>1.276428</td>\n",
       "      <td>0.039852</td>\n",
       "      <td>0.681201</td>\n",
       "      <td>0.032354</td>\n",
       "      <td>1.635919</td>\n",
       "      <td>0.303402</td>\n",
       "    </tr>\n",
       "    <tr>\n",
       "      <th>A2ML1</th>\n",
       "      <td>0.011011</td>\n",
       "      <td>-0.007241</td>\n",
       "      <td>-0.005086</td>\n",
       "      <td>-0.004471</td>\n",
       "      <td>-0.003819</td>\n",
       "      <td>0.011107</td>\n",
       "      <td>-0.003497</td>\n",
       "      <td>-0.003431</td>\n",
       "      <td>-0.004644</td>\n",
       "      <td>-0.003914</td>\n",
       "      <td>...</td>\n",
       "      <td>0.003116</td>\n",
       "      <td>0.006167</td>\n",
       "      <td>0.006514</td>\n",
       "      <td>0.017533</td>\n",
       "      <td>0.015672</td>\n",
       "      <td>0.114451</td>\n",
       "      <td>0.043520</td>\n",
       "      <td>0.004658</td>\n",
       "      <td>0.003820</td>\n",
       "      <td>0.031692</td>\n",
       "    </tr>\n",
       "    <tr>\n",
       "      <th>A4GALT</th>\n",
       "      <td>2.453512</td>\n",
       "      <td>1.528297</td>\n",
       "      <td>1.428711</td>\n",
       "      <td>0.359365</td>\n",
       "      <td>0.865621</td>\n",
       "      <td>0.867495</td>\n",
       "      <td>2.455182</td>\n",
       "      <td>1.037618</td>\n",
       "      <td>0.265048</td>\n",
       "      <td>3.132071</td>\n",
       "      <td>...</td>\n",
       "      <td>0.569911</td>\n",
       "      <td>1.458448</td>\n",
       "      <td>0.513539</td>\n",
       "      <td>0.191663</td>\n",
       "      <td>3.127982</td>\n",
       "      <td>0.086832</td>\n",
       "      <td>2.641161</td>\n",
       "      <td>0.764500</td>\n",
       "      <td>0.861152</td>\n",
       "      <td>1.868799</td>\n",
       "    </tr>\n",
       "  </tbody>\n",
       "</table>\n",
       "<p>5 rows × 120 columns</p>\n",
       "</div>"
      ],
      "text/plain": [
       "        m.DMS153  m.NCIH60  m.NCIH69  m.NCIH82  m.NCIH128  m.NCIH146  \\\n",
       "A1BG    2.955199  3.239727  3.599770  3.055231   4.579507   4.685081   \n",
       "A1CF    0.077212  0.167166  0.117398  0.536179   0.088160   0.074992   \n",
       "A2M     2.267502  0.122302  0.085891  1.586479   0.064500   0.231189   \n",
       "A2ML1   0.011011 -0.007241 -0.005086 -0.004471  -0.003819   0.011107   \n",
       "A4GALT  2.453512  1.528297  1.428711  0.359365   0.865621   0.867495   \n",
       "\n",
       "        m.NCIH187  m.NCIH209  m.NCIH211  m.NCIH250  ...  c.NCIH524  c.NCIH526  \\\n",
       "A1BG     3.215947   4.181752   1.288835   4.804468  ...   4.183146   3.405942   \n",
       "A1CF     0.080727   0.079204   0.107217   0.090348  ...  -0.057567   0.623162   \n",
       "A2M      0.059062   0.072303   0.189474   0.066101  ...  -0.038265  -0.006552   \n",
       "A2ML1   -0.003497  -0.003431  -0.004644  -0.003914  ...   0.003116   0.006167   \n",
       "A4GALT   2.455182   1.037618   0.265048   3.132071  ...   0.569911   1.458448   \n",
       "\n",
       "        c.NCIH69  c.NCIH82  c.NCIH841  c.NCIH889    c.SBC5  c.SCLC21H  \\\n",
       "A1BG    4.256034  3.905371   4.436237   5.073359  4.423783   3.713345   \n",
       "A1CF   -0.107734 -0.016782   0.183740   0.242981  0.008349   0.003494   \n",
       "A2M     0.040540  0.221331   1.276428   0.039852  0.681201   0.032354   \n",
       "A2ML1   0.006514  0.017533   0.015672   0.114451  0.043520   0.004658   \n",
       "A4GALT  0.513539  0.191663   3.127982   0.086832  2.641161   0.764500   \n",
       "\n",
       "         c.SHP77  c.SW1271  \n",
       "A1BG    3.438644  4.209637  \n",
       "A1CF   -0.073834 -0.001700  \n",
       "A2M     1.635919  0.303402  \n",
       "A2ML1   0.003820  0.031692  \n",
       "A4GALT  0.861152  1.868799  \n",
       "\n",
       "[5 rows x 120 columns]"
      ]
     },
     "execution_count": 36,
     "metadata": {},
     "output_type": "execute_result"
    }
   ],
   "source": [
    "df.head()"
   ]
  },
  {
   "cell_type": "markdown",
   "id": "e91bbd15-41d5-452a-ad7d-083d4a56ce29",
   "metadata": {},
   "source": [
    "**How many cell lines are in the dataset? How many genes?**"
   ]
  },
  {
   "cell_type": "code",
   "execution_count": 38,
   "id": "810eb392-4594-4f89-9333-adc569a78d7a",
   "metadata": {},
   "outputs": [],
   "source": [
    "### Your answer here ###"
   ]
  },
  {
   "cell_type": "markdown",
   "id": "44732f5a-f7d0-432c-810f-59743c2857ed",
   "metadata": {},
   "source": [
    "## Looking at Notch pathway genes"
   ]
  },
  {
   "cell_type": "markdown",
   "id": "3d958f7e-c439-4b82-9a65-058c930e5cbe",
   "metadata": {},
   "source": [
    "Let's see which genes from the Notch pathway are in our bulk RNA seq dataset, and plot the expression of each as a boxplot."
   ]
  },
  {
   "cell_type": "code",
   "execution_count": 39,
   "id": "e440da7c-6f76-4189-aac7-0c2360b45b3f",
   "metadata": {},
   "outputs": [],
   "source": [
    "Notch_genes = ['DLL1', 'DLL3', 'DLL4', 'JAG1', 'JAG2', 'NOTCH1', 'NOTCH2', 'NOTCH3', 'NOTCH4', 'MAML1', 'RBPJ', 'REST', 'MYC', 'MYCL', 'HES1', 'HES5', 'HES6', 'HEY1', 'HEY2', 'ASCL1', 'NEUROG3', 'NEUROD1']\n",
    "\n",
    "df = df.loc[Notch_genes] #if there are any missing genes, this line may not work in the future. We are lucky that all of our genes are in this list. If you run into a problem later, you can do the following line:\n",
    "\n",
    "# df = df.loc[set(df.index).intersection(set(Notch_genes))]"
   ]
  },
  {
   "cell_type": "code",
   "execution_count": 40,
   "id": "a5da18b9-a646-471f-b530-2bc993fa8958",
   "metadata": {},
   "outputs": [],
   "source": [
    "df = df.T #it's easier if genes are columns in python"
   ]
  },
  {
   "cell_type": "code",
   "execution_count": 41,
   "id": "b2d3a61e-5b4d-4d8e-b196-0b89f6c73f08",
   "metadata": {},
   "outputs": [
    {
     "data": {
      "image/png": "[encoded data removed]",
      "text/plain": [
       "<Figure size 432x288 with 1 Axes>"
      ]
     },
     "metadata": {
      "needs_background": "light"
     },
     "output_type": "display_data"
    }
   ],
   "source": [
    "sns.boxplot(data = df)\n",
    "plt.xticks(rotation= 90)\n",
    "plt.show()"
   ]
  },
  {
   "cell_type": "markdown",
   "id": "cf67c592-b269-40fe-ad58-95587c45154a",
   "metadata": {},
   "source": [
    "Try to make a scatterplot of two of the genes from the list above. For example, the SCLC field generally thinks of Notch (arbitrarily any one of the four) as correlating with Hes1. Is this always true?\n",
    "\n",
    "Also, do the Delta like ligands always inversely correlate with the Notch's?\n",
    "\n",
    "You can use seaborn's scatterplot function, matplotlib's scatter function, or seaborn's lmplot function, which will give you confidence intervals and a fitted linear model (but sadly doesn't print out the p-val or R for the fit). "
   ]
  },
  {
   "cell_type": "code",
   "execution_count": null,
   "id": "95051045-c047-45d3-9e1b-1800babed2ba",
   "metadata": {},
   "outputs": [],
   "source": [
    "##### Your code here ####"
   ]
  },
  {
   "cell_type": "markdown",
   "id": "36bc496b-3150-42d3-97d9-a92e067e929d",
   "metadata": {},
   "source": [
    "## Adding subtype information"
   ]
  },
  {
   "cell_type": "markdown",
   "id": "7702d73e-836b-468d-be89-ffb33ea6c52d",
   "metadata": {},
   "source": [
    "What we really want to know is if the expression of these genes are different across our subtypes, so we need to read in subtype labels to add them to our plots. Then we can make a boxplot grouped by subtype, or a scatterplot colored by subtype."
   ]
  },
  {
   "cell_type": "code",
   "execution_count": 18,
   "id": "6a3bd46c-bf99-4314-b017-dd3c4cfbd3df",
   "metadata": {},
   "outputs": [
    {
     "data": {
      "text/html": [
       "<div>\n",
       "<style scoped>\n",
       "    .dataframe tbody tr th:only-of-type {\n",
       "        vertical-align: middle;\n",
       "    }\n",
       "\n",
       "    .dataframe tbody tr th {\n",
       "        vertical-align: top;\n",
       "    }\n",
       "\n",
       "    .dataframe thead th {\n",
       "        text-align: right;\n",
       "    }\n",
       "</style>\n",
       "<table border=\"1\" class=\"dataframe\">\n",
       "  <thead>\n",
       "    <tr style=\"text-align: right;\">\n",
       "      <th></th>\n",
       "      <th>source</th>\n",
       "      <th>subtype</th>\n",
       "      <th>NEW_10_2020</th>\n",
       "      <th>10_08_2020</th>\n",
       "    </tr>\n",
       "  </thead>\n",
       "  <tbody>\n",
       "    <tr>\n",
       "      <th>c.COLO668</th>\n",
       "      <td>CCLE</td>\n",
       "      <td>A2</td>\n",
       "      <td>A2</td>\n",
       "      <td>A2</td>\n",
       "    </tr>\n",
       "    <tr>\n",
       "      <th>c.CORL24</th>\n",
       "      <td>CCLE</td>\n",
       "      <td>A</td>\n",
       "      <td>N</td>\n",
       "      <td>A</td>\n",
       "    </tr>\n",
       "    <tr>\n",
       "      <th>c.CORL279</th>\n",
       "      <td>CCLE</td>\n",
       "      <td>A</td>\n",
       "      <td>A</td>\n",
       "      <td>A</td>\n",
       "    </tr>\n",
       "    <tr>\n",
       "      <th>c.CORL311</th>\n",
       "      <td>CCLE</td>\n",
       "      <td>P</td>\n",
       "      <td>P</td>\n",
       "      <td>P</td>\n",
       "    </tr>\n",
       "    <tr>\n",
       "      <th>c.CORL47</th>\n",
       "      <td>CCLE</td>\n",
       "      <td>A</td>\n",
       "      <td>A</td>\n",
       "      <td>A</td>\n",
       "    </tr>\n",
       "  </tbody>\n",
       "</table>\n",
       "</div>"
      ],
      "text/plain": [
       "          source subtype NEW_10_2020 10_08_2020\n",
       "c.COLO668   CCLE      A2          A2         A2\n",
       "c.CORL24    CCLE       A           N          A\n",
       "c.CORL279   CCLE       A           A          A\n",
       "c.CORL311   CCLE       P           P          P\n",
       "c.CORL47    CCLE       A           A          A"
      ]
     },
     "execution_count": 18,
     "metadata": {},
     "output_type": "execute_result"
    }
   ],
   "source": [
    "subtypes = pd.read_csv('../data/combined_clusters_2020-05-27-MC copy.csv', index_col = 0, header = 0)\n",
    "subtypes.head()"
   ]
  },
  {
   "cell_type": "markdown",
   "id": "9156d024-c3c4-4b8c-9b96-61b753afd488",
   "metadata": {},
   "source": [
    "Sorry that this csv is a little messy, but we'll use the column \"10_08_2020.\" The others are old ways of subtyping. The bulk RNA seq dataset we are using combines two datasets, from Cancer Cell Line Encyclopedia (CCLE) and a guy named John Minna (Minna). The cell lines are labeled with c or m accordingly. Can you figure out how many cell lines overlap between the two datasets?"
   ]
  },
  {
   "cell_type": "code",
   "execution_count": 22,
   "id": "dee6490a-6ed6-4ac1-906f-98f5c2e213e3",
   "metadata": {},
   "outputs": [],
   "source": [
    "## we'll make a new dataframe to play around with this one, so we don't accidentally overwrite anything.\n",
    "\n",
    "tmp = subtypes.copy()"
   ]
  },
  {
   "cell_type": "markdown",
   "id": "88f719b9-4a16-4157-8211-0eaad7319a34",
   "metadata": {},
   "source": [
    "There are a few different ways to do this. We can remove the c and m from the index and then compare how many names are the same. This will require us to work with strings, and use the `str.split()` function built into Python. We can split the string into two pieces (using the period) and take the second piece. Then we can compare the strings.\n",
    "\n",
    "Alternatively, we can compare the strings directly to see how many of them match. We'll use the first method."
   ]
  },
  {
   "cell_type": "code",
   "execution_count": 23,
   "id": "56003136-772b-4e2a-ae1c-6fa008a3f9a6",
   "metadata": {},
   "outputs": [
    {
     "data": {
      "text/plain": [
       "Index(['c.COLO668', 'c.CORL24', 'c.CORL279', 'c.CORL311', 'c.CORL47',\n",
       "       'c.CORL88', 'c.CORL95', 'c.DMS114', 'c.DMS153', 'c.DMS273',\n",
       "       ...\n",
       "       'm.NCIH735', 'm.NCIH738', 'm.NCIH740', 'm.NCIH748', 'm.NCIH774',\n",
       "       'm.NCIH82', 'm.NCIH841', 'm.NCIH865', 'm.NCIH889', 'm.SHP77'],\n",
       "      dtype='object', length=120)"
      ]
     },
     "execution_count": 23,
     "metadata": {},
     "output_type": "execute_result"
    }
   ],
   "source": [
    "tmp.index"
   ]
  },
  {
   "cell_type": "code",
   "execution_count": 26,
   "id": "3d6798f4-c7f9-44f2-95c3-52de40f8ac35",
   "metadata": {},
   "outputs": [],
   "source": [
    "new_indices = []\n",
    "for i in tmp.index: #for each cell line in index\n",
    "    new_index = i.split('.')[1] #i is already a string, so we call the split method, and it splits the string into two pieces around the period. we then take the second piece (the cell line name) using the index 1.\n",
    "    new_indices.append(new_index)\n",
    "tmp.index = new_indices #make a new column with these cell line names or rename the index. Be careful with renaming the index, because now some rows will have the same index so if you try to call them you'll get a small dataframe (with two rows) instead of a single row."
   ]
  },
  {
   "cell_type": "markdown",
   "id": "43ad7418-7604-468a-9dfb-ff514529ac2e",
   "metadata": {},
   "source": [
    "We can use `value_counts()` to find out how many of each cell line there are. We see some have more than one-- i.e. one in each dataset. "
   ]
  },
  {
   "cell_type": "code",
   "execution_count": null,
   "id": "74ab7e5d-ee52-4d68-b3a1-8b8805839452",
   "metadata": {},
   "outputs": [],
   "source": [
    "tmp.index.value_counts()"
   ]
  },
  {
   "cell_type": "markdown",
   "id": "e4238fcd-e851-45ee-9f80-15a2e223df51",
   "metadata": {},
   "source": [
    "How many are equal to 2?"
   ]
  },
  {
   "cell_type": "code",
   "execution_count": 29,
   "id": "e94012bd-aa0f-405c-a3bc-c94e511ea4fd",
   "metadata": {},
   "outputs": [
    {
     "data": {
      "text/plain": [
       "29"
      ]
     },
     "execution_count": 29,
     "metadata": {},
     "output_type": "execute_result"
    }
   ],
   "source": [
    "(tmp.index.value_counts() == 2).sum()"
   ]
  },
  {
   "cell_type": "markdown",
   "id": "9a68626e-97ca-430e-a0c9-8d5aa6a35a9d",
   "metadata": {},
   "source": [
    "Keep in mind that there are 29 cell lines that overlap between the two datasets. We're going to add this info to the old dataframe."
   ]
  },
  {
   "cell_type": "code",
   "execution_count": 43,
   "id": "c743f4ac-d4ce-4805-a3af-37546b28b16b",
   "metadata": {},
   "outputs": [],
   "source": [
    "df['subtype'] = ### Your code here-- get the 10_08_2020 column from the subtypes dataframe. ###"
   ]
  },
  {
   "cell_type": "markdown",
   "id": "87ce971a-f868-4bc4-922a-3503bbc120e2",
   "metadata": {},
   "source": [
    "We're going to \"melt\" the dataframe to make it easier for seaborn to use it. Going forward, you can use either `df` or `df_long.` `df_long` will now have one row for each *combination* of cell line and gene name, and a column called \"value\" for the expression level of that gene."
   ]
  },
  {
   "cell_type": "code",
   "execution_count": 54,
   "id": "f3165aa8-11f4-4c64-9aee-8ee94fc9c385",
   "metadata": {},
   "outputs": [],
   "source": [
    "df_long = df.copy()\n",
    "df_long['cline'] = df.index\n",
    "df_long = pd.melt(df_long, id_vars=['cline', 'subtype'], value_vars=df_long.columns[0:-2])"
   ]
  },
  {
   "cell_type": "code",
   "execution_count": 69,
   "id": "996904ba-3c9b-485c-9eae-8b73d359ff29",
   "metadata": {},
   "outputs": [
    {
     "data": {
      "text/html": [
       "<div>\n",
       "<style scoped>\n",
       "    .dataframe tbody tr th:only-of-type {\n",
       "        vertical-align: middle;\n",
       "    }\n",
       "\n",
       "    .dataframe tbody tr th {\n",
       "        vertical-align: top;\n",
       "    }\n",
       "\n",
       "    .dataframe thead th {\n",
       "        text-align: right;\n",
       "    }\n",
       "</style>\n",
       "<table border=\"1\" class=\"dataframe\">\n",
       "  <thead>\n",
       "    <tr style=\"text-align: right;\">\n",
       "      <th></th>\n",
       "      <th>cline</th>\n",
       "      <th>subtype</th>\n",
       "      <th>variable</th>\n",
       "      <th>value</th>\n",
       "    </tr>\n",
       "  </thead>\n",
       "  <tbody>\n",
       "    <tr>\n",
       "      <th>0</th>\n",
       "      <td>m.DMS153</td>\n",
       "      <td>A2</td>\n",
       "      <td>DLL1</td>\n",
       "      <td>5.662887</td>\n",
       "    </tr>\n",
       "    <tr>\n",
       "      <th>1</th>\n",
       "      <td>m.NCIH60</td>\n",
       "      <td>N</td>\n",
       "      <td>DLL1</td>\n",
       "      <td>0.839773</td>\n",
       "    </tr>\n",
       "    <tr>\n",
       "      <th>2</th>\n",
       "      <td>m.NCIH69</td>\n",
       "      <td>A</td>\n",
       "      <td>DLL1</td>\n",
       "      <td>4.943790</td>\n",
       "    </tr>\n",
       "    <tr>\n",
       "      <th>3</th>\n",
       "      <td>m.NCIH82</td>\n",
       "      <td>uncl</td>\n",
       "      <td>DLL1</td>\n",
       "      <td>0.707564</td>\n",
       "    </tr>\n",
       "    <tr>\n",
       "      <th>4</th>\n",
       "      <td>m.NCIH128</td>\n",
       "      <td>A</td>\n",
       "      <td>DLL1</td>\n",
       "      <td>4.091344</td>\n",
       "    </tr>\n",
       "  </tbody>\n",
       "</table>\n",
       "</div>"
      ],
      "text/plain": [
       "       cline subtype variable     value\n",
       "0   m.DMS153      A2     DLL1  5.662887\n",
       "1   m.NCIH60       N     DLL1  0.839773\n",
       "2   m.NCIH69       A     DLL1  4.943790\n",
       "3   m.NCIH82    uncl     DLL1  0.707564\n",
       "4  m.NCIH128       A     DLL1  4.091344"
      ]
     },
     "execution_count": 69,
     "metadata": {},
     "output_type": "execute_result"
    }
   ],
   "source": [
    "df_long.head()"
   ]
  },
  {
   "cell_type": "markdown",
   "id": "a6fda2b6-aef0-41e5-a9e3-3f2203e21f0a",
   "metadata": {},
   "source": [
    "The beginning of this dataframe shows the expression `value` of the `variable` (gene name) DLL1 for each `cline.` Notice the number of rows is much longer than `df.` Since we told pandas that `subtype` is not a variable but an ID for each cell line, it keeps the cell line names and subtypes together, and splits the gene columns into \"long-form.\""
   ]
  },
  {
   "cell_type": "code",
   "execution_count": 68,
   "id": "4e22877a-65fd-4e3b-8315-fcb8dc86a3bd",
   "metadata": {},
   "outputs": [
    {
     "data": {
      "image/png": "[encoded data removed]",
      "text/plain": [
       "<Figure size 1500x600 with 1 Axes>"
      ]
     },
     "metadata": {
      "needs_background": "light"
     },
     "output_type": "display_data"
    }
   ],
   "source": [
    "plt.rcParams.update({'figure.dpi': 100})\n",
    "plt.rcParams.update({'figure.figsize': (15,6)})\n",
    "sns.boxplot(data = df_long,x = 'variable', y = 'value',hue ='subtype')\n",
    "plt.xticks(rotation= 90)\n",
    "plt.show()"
   ]
  },
  {
   "cell_type": "markdown",
   "id": "6abf56e0-fb20-46bd-b01f-6e9a798264d0",
   "metadata": {},
   "source": [
    "We can see a lot of variance between the subtypes for each gene! It's kind of hard to see each gene though. Can you make a boxplot using `df` where `x = 'subtype'` and `y=` the gene of your choice? "
   ]
  },
  {
   "cell_type": "code",
   "execution_count": 70,
   "id": "23a59b37-303b-4b0e-99bd-bfef737c2758",
   "metadata": {},
   "outputs": [],
   "source": [
    "### Your code here ###"
   ]
  },
  {
   "cell_type": "markdown",
   "id": "12d457c1-6014-4906-b1db-e3d3d773537d",
   "metadata": {},
   "source": [
    "Can you make a scatterplot for two of the genes, colored by subtype?"
   ]
  },
  {
   "cell_type": "code",
   "execution_count": null,
   "id": "3cb395ad-db3d-4593-8988-fecc1c021713",
   "metadata": {},
   "outputs": [],
   "source": [
    "### Your code here ###"
   ]
  },
  {
   "cell_type": "markdown",
   "id": "a329f276-17af-41af-9725-3422535f6224",
   "metadata": {},
   "source": [
    "A nice way to view a lot of genes like this is to make a heatmap. Can you make a heatmap using `sns.heatmap` of all the genes versus all the cell lines? (use `df`, not `df_long`)"
   ]
  },
  {
   "cell_type": "code",
   "execution_count": 71,
   "id": "b6884311-e180-4bb7-b6e4-9ce2e053b80b",
   "metadata": {},
   "outputs": [],
   "source": [
    "### Your code here ###"
   ]
  },
  {
   "cell_type": "markdown",
   "id": "71a7575b-6531-482e-bb57-e59026312c49",
   "metadata": {},
   "source": [
    "We can also make an `sns.clustermap,` which clusters the rows and or columns to organize the heatmap. Follow the code here to make a clustermap, and try to label the cell line rows by the subtype column in `df`.`"
   ]
  },
  {
   "cell_type": "code",
   "execution_count": null,
   "id": "e5c5173d-5adb-4da5-80b7-4fbcffd89cf1",
   "metadata": {},
   "outputs": [],
   "source": [
    "### Your code here ###"
   ]
  }
 ],
 "metadata": {
  "kernelspec": {
   "display_name": "Python 3 (ipykernel)",
   "language": "python",
   "name": "python3"
  },
  "language_info": {
   "codemirror_mode": {
    "name": "ipython",
    "version": 3
   },
   "file_extension": ".py",
   "mimetype": "text/x-python",
   "name": "python",
   "nbconvert_exporter": "python",
   "pygments_lexer": "ipython3",
   "version": "3.9.6"
  },
  "toc-autonumbering": true
 },
 "nbformat": 4,
 "nbformat_minor": 5
}
