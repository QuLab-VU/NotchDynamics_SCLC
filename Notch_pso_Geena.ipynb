{
 "cells": [
  {
   "cell_type": "code",
   "execution_count": 1,
   "metadata": {},
   "outputs": [
    {
     "name": "stderr",
     "output_type": "stream",
     "text": [
      "2021-11-18 12:56:41.367 - simplepso - INFO - Logging started on simplepso\n",
      "2021-11-18 12:56:41.368 - simplepso - INFO - Log entry time offset from UTC: -6.00 hours\n"
     ]
    }
   ],
   "source": [
    "\"\"\"\n",
    "Example usage of the simplePSO package\n",
    "\"\"\"\n",
    "import matplotlib.pyplot as plt\n",
    "import numpy as np\n",
    "\n",
    "from notch_sn_model import model\n",
    "from pysb.simulator import ScipyOdeSimulator\n",
    "from simplepso.logging import get_logger\n",
    "from simplepso.pso import PSO\n",
    "\n",
    "logger = get_logger()"
   ]
  },
  {
   "cell_type": "code",
   "execution_count": 2,
   "metadata": {},
   "outputs": [],
   "source": [
    "# Defining a few helper functions to use\n",
    "def normalize(trajectories):\n",
    "    \"\"\"Rescale a matrix of model trajectories to 0-1\"\"\"\n",
    "    ymin = trajectories.min(0)\n",
    "    ymax = trajectories.max(0)\n",
    "    return (trajectories - ymin) / (ymax - ymin)\n",
    "\n",
    "def display(params, title=None):\n",
    "    local_params = np.copy(params)\n",
    "    param_values[rate_mask] = 10 ** local_params\n",
    "    traj = solver.run(param_values=param_values)\n",
    "    ysim_array = traj.dataframe[obs_names].values\n",
    "    ysim_norm = normalize(ysim_array)\n",
    "\n",
    "    plt.figure(figsize=(6, 4))\n",
    "    if title is not None:\n",
    "        plt.title(title)\n",
    "    plt.plot(t, ysim_norm[:, 0], '^r', linestyle='--', label='Model')\n",
    "#     plt.plot(t, ysim_norm[:, 1], 'ok', linestyle='--', label='C')\n",
    "    plt.plot(t, norm_noisy_data_A, 'r-', label='SC RNAseq')\n",
    "#     plt.plot(t, norm_noisy_data_C, 'k-', label='Noisy C')\n",
    "    plt.legend(loc=0)\n",
    "    plt.ylabel('Normalized concentration')\n",
    "    plt.xlabel('Time (s)')"
   ]
  },
  {
   "cell_type": "code",
   "execution_count": 3,
   "metadata": {},
   "outputs": [
    {
     "name": "stderr",
     "output_type": "stream",
     "text": [
      "2021-11-18 12:56:41.395 - pysb.simulator.scipyode - WARNING - [notch_sn_model] This system of ODEs will be evaluated in pure Python. This may be slow for large models. We recommend installing the 'cython' package for compiling the ODEs to C code. This warning can be suppressed by specifying compiler='python'.\n"
     ]
    }
   ],
   "source": [
    "'''\n",
    "Here we define the cost function. We pass it the parameter vector, unlog it,\n",
    "and pass it to the solver. We choose a chi square cost function, but you can \n",
    "provide any metric of you choosing\n",
    "'''\n",
    "\n",
    "def obj_function(params):\n",
    "    # create copy of parameters\n",
    "    params_tmp = np.copy(params)\n",
    "    # convert back into regular base\n",
    "    param_values[rate_mask] = 10 ** params_tmp\n",
    "    traj = solver.run(param_values=param_values)\n",
    "    ysim_array = traj.dataframe[obs_names].values\n",
    "    ysim_norm = normalize(ysim_array)\n",
    "    # chi^2 error\n",
    "    err = np.sum((ydata_norm - ysim_norm) ** 2)\n",
    "    if np.isnan(err):\n",
    "        return 1000\n",
    "    return err\n",
    "\n",
    "\n",
    "# setup model and simulator\n",
    "t = np.linspace(0, 50, 51)\n",
    "obs_names = ['HCM_obs']\n",
    "\n",
    "# create pysb simulator instance\n",
    "solver = ScipyOdeSimulator(\n",
    "    model,\n",
    "    t,\n",
    "    integrator='lsoda',\n",
    "    integrator_options={'rtol': 1e-8, 'atol': 1e-8}\n",
    ")\n",
    "traj = solver.run()\n",
    "\n",
    "# Creating ideal data\n",
    "ysim_array = traj.dataframe[obs_names].values\n",
    "norm_data = normalize(ysim_array)\n",
    "\n",
    "noise = 0.05\n",
    "noisy_data_A = norm_data[:, 0] + np.random.uniform(-1 * noise, noise, len(t)) #put new data here in fo\n",
    "norm_noisy_data_A = normalize(noisy_data_A)\n",
    "\n",
    "ydata_norm = np.column_stack((norm_noisy_data_A))"
   ]
  },
  {
   "cell_type": "code",
   "execution_count": 4,
   "metadata": {},
   "outputs": [
    {
     "name": "stderr",
     "output_type": "stream",
     "text": [
      "2021-11-18 12:56:41.989 - simplepso - INFO - Saving pre-fit figure as fit_before_pso.png\n",
      "2021-11-18 12:56:41.990 - simplepso - INFO - Logging started on simplepso\n",
      "2021-11-18 12:56:41.991 - simplepso - INFO - Log entry time offset from UTC: -6.00 hours\n",
      "2021-11-18 12:56:41.992 - simplepso - DEBUG - OS Platform: macOS-11.5.2-x86_64-i386-64bit\n",
      "2021-11-18 12:56:41.993 - simplepso - DEBUG - Python version: 3.9.6\n",
      "2021-11-18 12:56:41.995 - simplepso - DEBUG - Hostname: 1.0.0.0.0.0.0.0.0.0.0.0.0.0.0.0.0.0.0.0.0.0.0.0.0.0.0.0.0.0.0.0.ip6.arpa\n",
      "2021-11-18 12:56:46.488 - simplepso - INFO - iteration         best\t        mean\t         min\t         max\t         std\n",
      "2021-11-18 12:56:46.489 - simplepso - INFO - 1              437.054\t     441.319\t     437.054\t     488.522\t      11.639\n",
      "2021-11-18 12:56:50.973 - simplepso - INFO - 2              437.054\t     441.170\t     437.054\t     486.646\t      11.301\n",
      "2021-11-18 12:56:55.406 - simplepso - INFO - 3              437.054\t     441.020\t     437.054\t     484.709\t      10.951\n",
      "2021-11-18 12:56:59.982 - simplepso - INFO - 4              437.054\t     440.867\t     437.054\t     482.717\t      10.590\n",
      "2021-11-18 12:57:04.618 - simplepso - INFO - 5              437.054\t     440.696\t     437.054\t     480.675\t      10.214\n",
      "2021-11-18 12:57:09.348 - simplepso - INFO - 6              437.054\t     440.520\t     437.054\t     478.586\t       9.820\n",
      "2021-11-18 12:57:14.171 - simplepso - INFO - 7              437.054\t     440.358\t     437.054\t     476.457\t       9.418\n",
      "2021-11-18 12:57:19.207 - simplepso - INFO - 8              437.054\t     440.296\t     437.054\t     474.296\t       9.156\n",
      "2021-11-18 12:57:24.771 - simplepso - INFO - 9              437.054\t     440.226\t     437.054\t     473.662\t       8.879\n",
      "2021-11-18 12:57:29.941 - simplepso - INFO - 10             437.054\t     440.110\t     437.054\t     472.947\t       8.497\n",
      "2021-11-18 12:57:35.280 - simplepso - INFO - 11             437.054\t     439.895\t     437.054\t     470.712\t       7.920\n",
      "2021-11-18 12:57:40.386 - simplepso - INFO - 12             437.054\t     439.711\t     437.054\t     469.787\t       7.455\n",
      "2021-11-18 12:57:45.532 - simplepso - INFO - 13             437.054\t     439.566\t     437.054\t     468.672\t       7.016\n",
      "2021-11-18 12:57:50.801 - simplepso - INFO - 14             437.054\t     439.413\t     437.054\t     467.391\t       6.580\n",
      "2021-11-18 12:57:56.107 - simplepso - INFO - 15             437.054\t     439.247\t     437.054\t     465.972\t       6.122\n",
      "2021-11-18 12:58:01.293 - simplepso - INFO - 16             437.054\t     439.082\t     437.054\t     464.445\t       5.673\n",
      "2021-11-18 12:58:06.760 - simplepso - INFO - 17             437.054\t     438.957\t     437.054\t     462.840\t       5.279\n",
      "2021-11-18 12:58:12.698 - simplepso - INFO - 18             437.054\t     438.823\t     437.054\t     461.189\t       4.890\n",
      "2021-11-18 12:58:19.954 - simplepso - INFO - 19             437.054\t     438.710\t     437.054\t     459.521\t       4.529\n",
      "2021-11-18 12:58:27.143 - simplepso - INFO - 20             437.054\t     438.584\t     437.054\t     457.863\t       4.157\n",
      "2021-11-18 12:58:33.831 - simplepso - INFO - 21             437.054\t     438.475\t     437.054\t     456.238\t       3.823\n",
      "2021-11-18 12:58:39.771 - simplepso - INFO - 22             437.054\t     438.367\t     437.054\t     454.667\t       3.511\n",
      "2021-11-18 12:58:45.382 - simplepso - INFO - 23             437.054\t     438.272\t     437.054\t     453.164\t       3.243\n",
      "2021-11-18 12:58:51.434 - simplepso - INFO - 24             437.054\t     438.152\t     437.054\t     451.740\t       2.933\n",
      "2021-11-18 12:58:57.725 - simplepso - INFO - 25             437.054\t     438.042\t     437.054\t     450.403\t       2.648\n",
      "2021-11-18 12:59:06.183 - simplepso - INFO - 26             437.054\t     437.942\t     437.054\t     449.156\t       2.387\n",
      "2021-11-18 12:59:14.363 - simplepso - INFO - 27             437.054\t     437.851\t     437.054\t     448.000\t       2.148\n",
      "2021-11-18 12:59:22.138 - simplepso - INFO - 28             437.054\t     437.769\t     437.054\t     446.935\t       1.930\n",
      "2021-11-18 12:59:29.820 - simplepso - INFO - 29             437.054\t     437.695\t     437.054\t     445.957\t       1.733\n",
      "2021-11-18 12:59:36.285 - simplepso - INFO - 30             437.054\t     437.628\t     437.054\t     445.064\t       1.553\n",
      "2021-11-18 12:59:43.123 - simplepso - INFO - 31             437.054\t     437.567\t     437.054\t     444.250\t       1.391\n",
      "2021-11-18 12:59:49.413 - simplepso - INFO - 32             437.054\t     437.513\t     437.054\t     443.511\t       1.245\n",
      "2021-11-18 12:59:55.818 - simplepso - INFO - 33             437.054\t     437.464\t     437.054\t     442.842\t       1.113\n",
      "2021-11-18 13:00:02.566 - simplepso - INFO - 34             437.054\t     437.420\t     437.054\t     442.237\t       0.995\n",
      "2021-11-18 13:00:09.394 - simplepso - INFO - 35             437.054\t     437.380\t     437.054\t     441.691\t       0.889\n",
      "2021-11-18 13:00:15.781 - simplepso - INFO - 36             437.054\t     437.345\t     437.054\t     441.199\t       0.793\n",
      "2021-11-18 13:00:21.841 - simplepso - INFO - 37             437.054\t     437.314\t     437.054\t     440.757\t       0.707\n",
      "2021-11-18 13:00:27.925 - simplepso - INFO - 38             437.054\t     437.285\t     437.054\t     440.360\t       0.631\n",
      "2021-11-18 13:00:34.351 - simplepso - INFO - 39             437.054\t     437.260\t     437.054\t     440.003\t       0.562\n",
      "2021-11-18 13:00:40.880 - simplepso - INFO - 40             437.054\t     437.238\t     437.054\t     439.684\t       0.501\n",
      "2021-11-18 13:00:48.076 - simplepso - INFO - 41             437.054\t     437.218\t     437.054\t     439.399\t       0.446\n",
      "2021-11-18 13:00:54.394 - simplepso - INFO - 42             437.054\t     437.200\t     437.054\t     439.143\t       0.398\n",
      "2021-11-18 13:01:00.693 - simplepso - INFO - 43             437.054\t     437.184\t     437.054\t     438.915\t       0.355\n",
      "2021-11-18 13:01:06.980 - simplepso - INFO - 44             437.054\t     437.170\t     437.054\t     438.712\t       0.316\n",
      "2021-11-18 13:01:13.288 - simplepso - INFO - 45             437.054\t     437.158\t     437.054\t     438.530\t       0.281\n",
      "2021-11-18 13:01:19.577 - simplepso - INFO - 46             437.054\t     437.146\t     437.054\t     438.368\t       0.251\n",
      "2021-11-18 13:01:26.247 - simplepso - INFO - 47             437.054\t     437.136\t     437.054\t     438.224\t       0.223\n",
      "2021-11-18 13:01:32.587 - simplepso - INFO - 48             437.054\t     437.127\t     437.054\t     438.096\t       0.199\n",
      "2021-11-18 13:01:39.023 - simplepso - INFO - 49             437.054\t     437.119\t     437.054\t     437.982\t       0.177\n"
     ]
    },
    {
     "name": "stdout",
     "output_type": "stream",
     "text": [
      " lsoda--  at t(=r1) and step size h(=r2), the error\u0000\u0000\n",
      "       test failed repeatedly or with abs(h) = hmin\u0000\u0000\n",
      "      in above,  r1 =  0.1438460640161D+02   r2 =  0.4058834725664D-08\n"
     ]
    },
    {
     "name": "stderr",
     "output_type": "stream",
     "text": [
      "2021-11-18 13:01:45.403 - simplepso - INFO - 50             437.054\t     444.733\t     437.054\t     818.134\t      53.343\n",
      "2021-11-18 13:01:45.703 - simplepso - INFO - Saving post-fit figure as fit_after_pso.png\n"
     ]
    },
    {
     "data": {
      "image/png": "[encoded data removed]",
      "text/plain": [
       "<Figure size 432x288 with 1 Axes>"
      ]
     },
     "metadata": {
      "needs_background": "light"
     },
     "output_type": "display_data"
    },
    {
     "data": {
      "image/png": "[encoded data removed]",
      "text/plain": [
       "<Figure size 432x288 with 1 Axes>"
      ]
     },
     "metadata": {
      "needs_background": "light"
     },
     "output_type": "display_data"
    }
   ],
   "source": [
    "'''\n",
    "In this example we are going to optimize the rate parameters of the model. \n",
    "We do this in log10 so we can span across large parameter spaces easily.\n",
    "'''\n",
    "rate_params = model.parameters_rules()\n",
    "rate_mask = np.array([p in rate_params for p in model.parameters])\n",
    "param_values = np.array([p.value for p in model.parameters])\n",
    "log_original_values = np.log10(param_values[rate_mask])\n",
    "\n",
    "if '__main__' == __name__:\n",
    "    # We will use a best guess starting position for the model,\n",
    "    start_position = log_original_values + \\\n",
    "                     np.random.uniform(-1, 1,\n",
    "                                       size=len(log_original_values))\n",
    "\n",
    "    display(start_position, \"Before optimization\")\n",
    "    plt.tight_layout()\n",
    "    plt.savefig(\"fit_before_pso.png\", bbox_inches='tight')\n",
    "    logger.info(\"Saving pre-fit figure as fit_before_pso.png\")\n",
    "\n",
    "    # Here we initial the class\n",
    "    # We must proivde the cost function and a starting value\n",
    "    optimizer = PSO(start=start_position, verbose=True, shrink_steps=False)\n",
    "\n",
    "    # We also must set bounds of the parameter space, and the speed PSO will\n",
    "    # travel (max speed in either direction)\n",
    "    optimizer.set_bounds(parameter_range=4)\n",
    "    optimizer.set_speed(speed_min=-.05, speed_max=.05)\n",
    "\n",
    "    # Now we run the pso algorithm\n",
    "    optimizer.run(num_particles=50, num_iterations=50,\n",
    "                  cost_function=obj_function, max_iter_no_improv=25)\n",
    "\n",
    "    best_params = optimizer.best.pos\n",
    "    display(best_params, \"After optimization\")\n",
    "    plt.tight_layout()\n",
    "    plt.savefig(\"fit_after_pso.png\", bbox_inches='tight')\n",
    "    logger.info(\"Saving post-fit figure as fit_after_pso.png\")\n",
    "    plt.show()\n"
   ]
  },
  {
   "cell_type": "code",
   "execution_count": null,
   "metadata": {},
   "outputs": [],
   "source": []
  },
  {
   "cell_type": "markdown",
   "metadata": {},
   "source": [
    "### "
   ]
  }
 ],
 "metadata": {
  "kernelspec": {
   "display_name": "Python 3 (ipykernel)",
   "language": "python",
   "name": "python3"
  },
  "language_info": {
   "codemirror_mode": {
    "name": "ipython",
    "version": 3
   },
   "file_extension": ".py",
   "mimetype": "text/x-python",
   "name": "python",
   "nbconvert_exporter": "python",
   "pygments_lexer": "ipython3",
   "version": "3.9.6"
  }
 },
 "nbformat": 4,
 "nbformat_minor": 2
}
